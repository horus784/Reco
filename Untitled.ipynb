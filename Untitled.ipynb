{
 "cells": [
  {
   "cell_type": "code",
   "execution_count": null,
   "metadata": {},
   "outputs": [],
   "source": [
    "import pandas as pd\n",
    "import numpy as np\n",
    "import itertools"
   ]
  },
  {
   "cell_type": "code",
   "execution_count": null,
   "metadata": {},
   "outputs": [],
   "source": [
    "def movie_preprocessing(movie):\n",
    "    movie_col = list(movie.columns)\n",
    "    movie_tag = [doc.split('|') for doc in movie['tag']]\n",
    "    tag_table = {token: idx for idx, token in enumerate(set(itertools.chain.from_iterable(movie_tag)))}\n",
    "    movie_tag = pd.DataFrame(movie_tag)\n",
    "    tag_table = pd.DataFrame(list(tag_table.items()))\n",
    "    tag_table.columns = ['Tag', 'Index']\n",
    "\n",
    "    # use one-hot encoding for movie genres (here called tag)\n",
    "    tag_dummy = np.zeros([len(movie), len(tag_table)])\n",
    "\n",
    "    for i in range(len(movie)):\n",
    "        for j in range(len(tag_table)):\n",
    "            if tag_table['Tag'][j] in list(movie_tag.iloc[i, :]):\n",
    "                tag_dummy[i, j] = 1\n",
    "\n",
    "    # combine the tag_dummy one-hot encoding table to original movie files\n",
    "    movie = pd.concat([movie, pd.DataFrame(tag_dummy)], 1)\n",
    "    movie_col.extend(['tag' + str(i) for i in range(len(tag_table))])\n",
    "    movie.columns = movie_col\n",
    "    movie = movie.drop('tag', 1)\n",
    "    return movie"
   ]
  },
  {
   "cell_type": "code",
   "execution_count": null,
   "metadata": {},
   "outputs": [],
   "source": [
    "def feature_extraction(data):\n",
    "    # actions: we use top 50 movies as our actions for recommendations\n",
    "    actions = data.groupby('movie_id').size().sort_values(ascending=False)[:50]\n",
    "    actions = list(actions.index)\n",
    "\n",
    "    # user_feature: tags they've watched for non-top-50 movies normalized per user\n",
    "    user_feature = data[~data['movie_id'].isin(actions)]\n",
    "    user_feature = user_feature.groupby('user_id').aggregate(np.sum)\n",
    "    user_feature = user_feature.drop(['movie_id', 'rating', 'timestamp'], 1)\n",
    "    user_feature = user_feature.div(user_feature.sum(axis=1), axis=0)\n",
    "\n",
    "    # streaming_batch: the result for testing bandit algrorithms\n",
    "    top50_data = data[data['movie_id'].isin(actions)]\n",
    "    top50_data = top50_data.sort('timestamp', ascending=1)\n",
    "    streaming_batch = top50_data['user_id']\n",
    "\n",
    "    # reward_list: if rating >=3, the user will watch the movie\n",
    "    top50_data['reward'] = np.where(top50_data['rating'] >= 3, 1, 0)\n",
    "    reward_list = top50_data[['user_id', 'movie_id', 'reward']]\n",
    "    reward_list = reward_list[reward_list['reward'] == 1]\n",
    "    return streaming_batch, user_feature, actions, reward_list"
   ]
  },
  {
   "cell_type": "code",
   "execution_count": null,
   "metadata": {},
   "outputs": [],
   "source": [
    "def main():\n",
    "    # read and preprocess the movie data\n",
    "    movie = pd.read_table('/home/glenn/Documents/ml-10M100K/movies.dat', sep='::', names=['movie_id', 'movie_name', 'tag'], engine='python')\n",
    "    movie = movie_preprocessing(movie)\n",
    "\n",
    "    # read the ratings data and merge it with movie data\n",
    "    rating = pd.read_table(\"/home/glenn/Documents/ml-10M100K/ratings.dat\", sep=\"::\",\n",
    "                           names=[\"user_id\", \"movie_id\", \"rating\", \"timestamp\"], engine='python')\n",
    "    data = pd.merge(rating, movie, on=\"movie_id\")\n",
    "\n",
    "    # extract feature from our data set\n",
    "    streaming_batch, user_feature, actions, reward_list = feature_extraction(data)\n",
    "    streaming_batch.to_csv(\"/home/glenn/Documents/streaming_batch.csv\", sep='\\t', index=False)\n",
    "    user_feature.to_csv(\"/home/glenn/Documents/user_feature.csv\", sep='\\t')\n",
    "    pd.DataFrame(actions, columns=['movie_id']).to_csv(\"actions.csv\", sep='\\t', index=False)\n",
    "    reward_list.to_csv(\"/home/glenn/Documents/reward_list.csv\", sep='\\t', index=False)\n",
    "\n",
    "    action_context = movie[movie['movie_id'].isin(actions)]\n",
    "    action_context.to_csv(\"/home/glenn/Documents/action_context.csv\", sep='\\t', index = False)"
   ]
  },
  {
   "cell_type": "code",
   "execution_count": null,
   "metadata": {},
   "outputs": [],
   "source": [
    "if __name__ == '__main__':\n",
    "    main()"
   ]
  },
  {
   "cell_type": "code",
   "execution_count": null,
   "metadata": {},
   "outputs": [],
   "source": [
    "t= {'(test)':2,'test':2}"
   ]
  },
  {
   "cell_type": "code",
   "execution_count": null,
   "metadata": {},
   "outputs": [],
   "source": [
    "pd.DataFrame(list(t.items()))"
   ]
  },
  {
   "cell_type": "code",
   "execution_count": null,
   "metadata": {},
   "outputs": [],
   "source": [
    "pd.DataFrame([('Sci-Fi', 0), ('Comedy', 1), ('Drama', 2), ('War', 3), ('Crime', 4), ('Romance', 5), ('Documentary', 6), ('Musical', 7), ('Western', 8), ('(no genres listed)', 9), ('Animation', 10), ('Thriller', 11), ('IMAX', 12), ('Film-Noir', 13), ('Children', 14), ('Horror', 15), ('Adventure', 16), ('Mystery', 17), ('Fantasy', 18), ('Action', 19)])"
   ]
  },
  {
   "cell_type": "code",
   "execution_count": null,
   "metadata": {},
   "outputs": [],
   "source": []
  }
 ],
 "metadata": {
  "kernelspec": {
   "display_name": "Python 3",
   "language": "python",
   "name": "python3"
  },
  "language_info": {
   "codemirror_mode": {
    "name": "ipython",
    "version": 3
   },
   "file_extension": ".py",
   "mimetype": "text/x-python",
   "name": "python",
   "nbconvert_exporter": "python",
   "pygments_lexer": "ipython3",
   "version": "3.6.5"
  }
 },
 "nbformat": 4,
 "nbformat_minor": 2
}
